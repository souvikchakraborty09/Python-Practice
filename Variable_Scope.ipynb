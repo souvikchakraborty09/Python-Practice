{
 "cells": [
  {
   "cell_type": "code",
   "execution_count": null,
   "id": "aca77e53",
   "metadata": {},
   "outputs": [],
   "source": [
    "#LEGB\n",
    "#Local, Enclosing, Global, Built-in"
   ]
  },
  {
   "cell_type": "code",
   "execution_count": null,
   "id": "37f5b690",
   "metadata": {},
   "outputs": [],
   "source": [
    "#local - Variables defined within a function.\n",
    "#Enclosing - Variables that are in the local scope of enclosing function."
   ]
  },
  {
   "cell_type": "code",
   "execution_count": 10,
   "id": "6175418e",
   "metadata": {},
   "outputs": [
    {
     "name": "stdout",
     "output_type": "stream",
     "text": [
      "local y\n",
      "global x\n"
     ]
    }
   ],
   "source": [
    "x='global x'\n",
    "def test():\n",
    "    y = 'local y'\n",
    "    print(y)\n",
    "    \n",
    "test()\n",
    "print(x)\n",
    "#print(y) #It cannot print(y) as it's defined inside a function."
   ]
  },
  {
   "cell_type": "code",
   "execution_count": 21,
   "id": "4530284b",
   "metadata": {},
   "outputs": [
    {
     "name": "stdout",
     "output_type": "stream",
     "text": [
      "global y\n"
     ]
    }
   ],
   "source": [
    "x='global x'\n",
    "def test():\n",
    "    global y\n",
    "    y = 'local y'\n",
    "    print(y)\n",
    "    \n",
    "print(y)"
   ]
  },
  {
   "cell_type": "code",
   "execution_count": null,
   "id": "3212cbd2",
   "metadata": {},
   "outputs": [],
   "source": [
    "#x='global x'\n",
    "def test(z):\n",
    "    x = 'local x'\n",
    "    print(y)\n",
    "    \n",
    "test()\n",
    "print(x)"
   ]
  },
  {
   "cell_type": "code",
   "execution_count": null,
   "id": "0c69f8c0",
   "metadata": {},
   "outputs": [],
   "source": []
  }
 ],
 "metadata": {
  "kernelspec": {
   "display_name": "Python 3 (ipykernel)",
   "language": "python",
   "name": "python3"
  },
  "language_info": {
   "codemirror_mode": {
    "name": "ipython",
    "version": 3
   },
   "file_extension": ".py",
   "mimetype": "text/x-python",
   "name": "python",
   "nbconvert_exporter": "python",
   "pygments_lexer": "ipython3",
   "version": "3.10.5"
  }
 },
 "nbformat": 4,
 "nbformat_minor": 5
}
