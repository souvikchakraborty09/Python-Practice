{
 "cells": [
  {
   "cell_type": "code",
   "execution_count": 1,
   "id": "3e0023bc",
   "metadata": {},
   "outputs": [
    {
     "name": "stdout",
     "output_type": "stream",
     "text": [
      "Condition was True\n"
     ]
    }
   ],
   "source": [
    "if True:\n",
    "    print('Condition was True')"
   ]
  },
  {
   "cell_type": "code",
   "execution_count": 2,
   "id": "f37ea12a",
   "metadata": {},
   "outputs": [],
   "source": [
    "if False:\n",
    "    print('Condition was True')"
   ]
  },
  {
   "cell_type": "code",
   "execution_count": 9,
   "id": "36248755",
   "metadata": {},
   "outputs": [
    {
     "name": "stdout",
     "output_type": "stream",
     "text": [
      "Condition was True\n"
     ]
    }
   ],
   "source": [
    "language = 'Python'\n",
    "language=language.lower()\n",
    "\n",
    "if language == 'python':\n",
    "    print('Condition was True')\n",
    "elif language == 'Java':\n",
    "    print('Language is Java')\n",
    "elif language == 'JavaScript':\n",
    "    print('Language is JavaScript')\n",
    "else:\n",
    "    print('Spelling Mistake !')"
   ]
  },
  {
   "cell_type": "code",
   "execution_count": null,
   "id": "53e07130",
   "metadata": {},
   "outputs": [],
   "source": [
    "#Comparisons:\n",
    "#Equal: ==\n",
    "#Not Equal: !=\n",
    "#Greater: >\n",
    "#Smaller: <\n",
    "#Greater or equal: >=\n",
    "#Smaller or equal: <=\n",
    "#Object Indentity: is"
   ]
  },
  {
   "cell_type": "code",
   "execution_count": null,
   "id": "6a87f85d",
   "metadata": {},
   "outputs": [],
   "source": [
    "#Python doesn't have switch statement because if-else statements are can handle it easily.\n"
   ]
  },
  {
   "cell_type": "code",
   "execution_count": null,
   "id": "04b3c9ff",
   "metadata": {},
   "outputs": [],
   "source": [
    "#and\n",
    "#or\n",
    "#not"
   ]
  },
  {
   "cell_type": "code",
   "execution_count": 14,
   "id": "0e03df63",
   "metadata": {},
   "outputs": [
    {
     "name": "stdout",
     "output_type": "stream",
     "text": [
      "Bad Creds\n"
     ]
    }
   ],
   "source": [
    "user = 'Admin'\n",
    "logged_in = False\n",
    "\n",
    "if user == 'Admin' and logged_in:\n",
    "    print('Admin Page')\n",
    "else:\n",
    "    print('Bad Creds')"
   ]
  },
  {
   "cell_type": "code",
   "execution_count": 15,
   "id": "cdab2996",
   "metadata": {},
   "outputs": [
    {
     "name": "stdout",
     "output_type": "stream",
     "text": [
      "Admin Page\n"
     ]
    }
   ],
   "source": [
    "user = 'Admin'\n",
    "logged_in = False\n",
    "\n",
    "if user == 'Admin' or logged_in:\n",
    "    print('Admin Page')\n",
    "else:\n",
    "    print('Bad Creds')"
   ]
  },
  {
   "cell_type": "code",
   "execution_count": 16,
   "id": "c08ae25b",
   "metadata": {},
   "outputs": [
    {
     "name": "stdout",
     "output_type": "stream",
     "text": [
      "Please log in\n"
     ]
    }
   ],
   "source": [
    "user = 'Admin'\n",
    "logged_in = False\n",
    "\n",
    "if not logged_in:\n",
    "    print('Please log in')\n",
    "else:\n",
    "    print('Welcome')"
   ]
  },
  {
   "cell_type": "code",
   "execution_count": 18,
   "id": "5010ea81",
   "metadata": {},
   "outputs": [
    {
     "name": "stdout",
     "output_type": "stream",
     "text": [
      "False\n"
     ]
    }
   ],
   "source": [
    "#Test if two objects has same ID.(i.e. two objects can actually be equal and not be the same in memory.)\n",
    "a=[1,2,3]\n",
    "b=[1,2,3]\n",
    "print(a is b) #Because this are two different objects in memory the result is false. "
   ]
  },
  {
   "cell_type": "code",
   "execution_count": 19,
   "id": "93440959",
   "metadata": {},
   "outputs": [
    {
     "name": "stdout",
     "output_type": "stream",
     "text": [
      "2707487156672\n",
      "2707487160768\n",
      "False\n"
     ]
    }
   ],
   "source": [
    "a=[1,2,3]\n",
    "b=[1,2,3]\n",
    "print(id(a))\n",
    "print(id(b)) #We can see Both the id's are different.\n",
    "print(a is b)"
   ]
  },
  {
   "cell_type": "code",
   "execution_count": 20,
   "id": "cd79ec80",
   "metadata": {},
   "outputs": [
    {
     "name": "stdout",
     "output_type": "stream",
     "text": [
      "2707487041024\n",
      "2707487041024\n",
      "True\n"
     ]
    }
   ],
   "source": [
    "a=[1,2,3]\n",
    "b=a\n",
    "print(id(a))\n",
    "print(id(b))\n",
    "print(a is b) #Now they are same. 'is' is basically [id(a)==id(b)] "
   ]
  },
  {
   "cell_type": "code",
   "execution_count": 29,
   "id": "364fec4f",
   "metadata": {},
   "outputs": [
    {
     "name": "stdout",
     "output_type": "stream",
     "text": [
      "Evaluated to False\n",
      "Evaluated to False\n",
      "Evaluated to False\n",
      "Evaluated to False\n",
      "Evaluated to False\n",
      "Evaluated to True\n"
     ]
    }
   ],
   "source": [
    "# False Values:\n",
    "#False\n",
    "#None\n",
    "#Zero of any numeric Type\n",
    "#Any empty sequence. For example, '',(),[].\n",
    "#Any empty mapping. For example, {}.\n",
    "\n",
    "#This values are false rest is true by default.\n",
    "\n",
    "condition=False\n",
    "\n",
    "if condition: #By default it checks for true\n",
    "    print('Evaluated to True')\n",
    "else:\n",
    "    print('Evaluated to False')\n",
    "\n",
    "condition=None\n",
    "\n",
    "if condition: #By default it checks for true\n",
    "    print('Evaluated to True')\n",
    "else:\n",
    "    print('Evaluated to False')\n",
    "    \n",
    "condition=0.0\n",
    "\n",
    "if condition: #By default it checks for true\n",
    "    print('Evaluated to True')\n",
    "else:\n",
    "    print('Evaluated to False')\n",
    "    \n",
    "condition={}\n",
    "\n",
    "if condition: #By default it checks for true\n",
    "    print('Evaluated to True')\n",
    "else:\n",
    "    print('Evaluated to False')\n",
    "    \n",
    "condition=[]\n",
    "\n",
    "if condition: #By default it checks for true\n",
    "    print('Evaluated to True')\n",
    "else:\n",
    "    print('Evaluated to False')\n",
    "    \n",
    "condition='Test'\n",
    "\n",
    "if condition: #By default it checks for true\n",
    "    print('Evaluated to True')\n",
    "else:\n",
    "    print('Evaluated to False')\n",
    "    \n"
   ]
  },
  {
   "cell_type": "code",
   "execution_count": null,
   "id": "2867b140",
   "metadata": {},
   "outputs": [],
   "source": []
  }
 ],
 "metadata": {
  "kernelspec": {
   "display_name": "Python 3 (ipykernel)",
   "language": "python",
   "name": "python3"
  },
  "language_info": {
   "codemirror_mode": {
    "name": "ipython",
    "version": 3
   },
   "file_extension": ".py",
   "mimetype": "text/x-python",
   "name": "python",
   "nbconvert_exporter": "python",
   "pygments_lexer": "ipython3",
   "version": "3.10.5"
  }
 },
 "nbformat": 4,
 "nbformat_minor": 5
}
