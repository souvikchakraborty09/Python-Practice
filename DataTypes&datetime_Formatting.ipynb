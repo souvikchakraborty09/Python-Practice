{
 "cells": [
  {
   "cell_type": "code",
   "execution_count": 3,
   "id": "0e2218d4",
   "metadata": {},
   "outputs": [
    {
     "data": {
      "text/plain": [
       "'My name is Souvik & I am 22 years old.'"
      ]
     },
     "execution_count": 3,
     "metadata": {},
     "output_type": "execute_result"
    }
   ],
   "source": [
    "person={'name':'Souvik','age':'22'}\n",
    "sentence='My name is ' +person['name']+' & I am '+str(person['age'])+' years old.'\n",
    "sentence"
   ]
  },
  {
   "cell_type": "code",
   "execution_count": 5,
   "id": "a1502d69",
   "metadata": {},
   "outputs": [
    {
     "data": {
      "text/plain": [
       "'My name is Souvik & I am 22 years old.'"
      ]
     },
     "execution_count": 5,
     "metadata": {},
     "output_type": "execute_result"
    }
   ],
   "source": [
    "sentence='My name is {} & I am {} years old.'.format(person['name'],person['age'])\n",
    "sentence"
   ]
  },
  {
   "cell_type": "code",
   "execution_count": 6,
   "id": "60f1b28b",
   "metadata": {},
   "outputs": [
    {
     "data": {
      "text/plain": [
       "'My name is Souvik & I am 22 years old.'"
      ]
     },
     "execution_count": 6,
     "metadata": {},
     "output_type": "execute_result"
    }
   ],
   "source": [
    "sentence='My name is {0} & I am {1} years old.'.format(person['name'],person['age']) #0 & 1 are the values passed in the format.\n",
    "sentence"
   ]
  },
  {
   "cell_type": "code",
   "execution_count": 8,
   "id": "210e114b",
   "metadata": {},
   "outputs": [
    {
     "data": {
      "text/plain": [
       "'<h1>This is a headline</h1>'"
      ]
     },
     "execution_count": 8,
     "metadata": {},
     "output_type": "execute_result"
    }
   ],
   "source": [
    "tag='h1'\n",
    "text='This is a headline'\n",
    "\n",
    "sentence='<{0}>{1}</{0}>'.format(tag, text)\n",
    "sentence"
   ]
  },
  {
   "cell_type": "code",
   "execution_count": 9,
   "id": "3ca3c5ae",
   "metadata": {},
   "outputs": [
    {
     "data": {
      "text/plain": [
       "'My name is Souvik & I am 22 years old.'"
      ]
     },
     "execution_count": 9,
     "metadata": {},
     "output_type": "execute_result"
    }
   ],
   "source": [
    "sentence='My name is {0[name]} & I am {1[age]} years old.'.format(person,person)\n",
    "sentence"
   ]
  },
  {
   "cell_type": "code",
   "execution_count": 10,
   "id": "a4cdffbe",
   "metadata": {},
   "outputs": [
    {
     "data": {
      "text/plain": [
       "'My name is Souvik & I am 22 years old.'"
      ]
     },
     "execution_count": 10,
     "metadata": {},
     "output_type": "execute_result"
    }
   ],
   "source": [
    "sentence='My name is {0[name]} & I am {0[age]} years old.'.format(person)\n",
    "sentence"
   ]
  },
  {
   "cell_type": "code",
   "execution_count": 11,
   "id": "910235fc",
   "metadata": {},
   "outputs": [
    {
     "data": {
      "text/plain": [
       "'My name is jenn & I am 23 years old.'"
      ]
     },
     "execution_count": 11,
     "metadata": {},
     "output_type": "execute_result"
    }
   ],
   "source": [
    "l=['jenn',23]\n",
    "sentence='My name is {0[0]} & I am {0[1]} years old.'.format(l)\n",
    "sentence"
   ]
  },
  {
   "cell_type": "code",
   "execution_count": 15,
   "id": "401d9c28",
   "metadata": {},
   "outputs": [
    {
     "data": {
      "text/plain": [
       "'My name is Souvik & I am 22 years old.'"
      ]
     },
     "execution_count": 15,
     "metadata": {},
     "output_type": "execute_result"
    }
   ],
   "source": [
    "#Accessing Attributes in similar way\n",
    "class person():\n",
    "    \n",
    "    def __init__(self,name,age):\n",
    "        self.name=name\n",
    "        self.age=age\n",
    "p1=person('Souvik','22')\n",
    "sentence='My name is {0.name} & I am {0.age} years old.'.format(p1)\n",
    "sentence   "
   ]
  },
  {
   "cell_type": "code",
   "execution_count": 16,
   "id": "05411eb3",
   "metadata": {},
   "outputs": [
    {
     "data": {
      "text/plain": [
       "'My name is Souvik & I am 22 years old.'"
      ]
     },
     "execution_count": 16,
     "metadata": {},
     "output_type": "execute_result"
    }
   ],
   "source": [
    "sentence='My name is {name} & I am {age} years old.'.format(name='Souvik',age='22')\n",
    "sentence"
   ]
  },
  {
   "cell_type": "code",
   "execution_count": 18,
   "id": "8462b8ea",
   "metadata": {},
   "outputs": [
    {
     "data": {
      "text/plain": [
       "'My name is Souvik & I am 23 years old.'"
      ]
     },
     "execution_count": 18,
     "metadata": {},
     "output_type": "execute_result"
    }
   ],
   "source": [
    "person={'name':'Souvik','age':23}\n",
    "sentence='My name is {name} & I am {age} years old.'.format(**person)\n",
    "sentence"
   ]
  },
  {
   "cell_type": "code",
   "execution_count": 20,
   "id": "d15695a8",
   "metadata": {},
   "outputs": [
    {
     "name": "stdout",
     "output_type": "stream",
     "text": [
      "The Value is 1\n",
      "The Value is 2\n",
      "The Value is 3\n",
      "The Value is 4\n",
      "The Value is 5\n",
      "The Value is 6\n",
      "The Value is 7\n",
      "The Value is 8\n",
      "The Value is 9\n",
      "The Value is 10\n"
     ]
    }
   ],
   "source": [
    "for i in range(1,11):\n",
    "    sentence=\"The Value is {}\".format(i)\n",
    "    print(sentence)"
   ]
  },
  {
   "cell_type": "code",
   "execution_count": 21,
   "id": "d41b53d8",
   "metadata": {},
   "outputs": [
    {
     "name": "stdout",
     "output_type": "stream",
     "text": [
      "The Value is 01\n",
      "The Value is 02\n",
      "The Value is 03\n",
      "The Value is 04\n",
      "The Value is 05\n",
      "The Value is 06\n",
      "The Value is 07\n",
      "The Value is 08\n",
      "The Value is 09\n",
      "The Value is 10\n"
     ]
    }
   ],
   "source": [
    "#Now, I want every value to be two digits\n",
    "for i in range(1,11):\n",
    "    sentence=\"The Value is {:02}\".format(i) #{:02} is for 0 padding and 2 is the digits.\n",
    "    print(sentence)"
   ]
  },
  {
   "cell_type": "code",
   "execution_count": 22,
   "id": "e132f5f4",
   "metadata": {},
   "outputs": [
    {
     "name": "stdout",
     "output_type": "stream",
     "text": [
      "The Value is 001\n",
      "The Value is 002\n",
      "The Value is 003\n",
      "The Value is 004\n",
      "The Value is 005\n",
      "The Value is 006\n",
      "The Value is 007\n",
      "The Value is 008\n",
      "The Value is 009\n",
      "The Value is 010\n"
     ]
    }
   ],
   "source": [
    "for i in range(1,11):\n",
    "    sentence=\"The Value is {:03}\".format(i) #{:02} is for 0 padding and 2 is the digits.\n",
    "    print(sentence)"
   ]
  },
  {
   "cell_type": "code",
   "execution_count": 23,
   "id": "14bcd03a",
   "metadata": {},
   "outputs": [
    {
     "data": {
      "text/plain": [
       "'Pi is equal to 3.14159265'"
      ]
     },
     "execution_count": 23,
     "metadata": {},
     "output_type": "execute_result"
    }
   ],
   "source": [
    "pi=3.14159265\n",
    "\n",
    "sentence='Pi is equal to {}'.format(pi)\n",
    "sentence"
   ]
  },
  {
   "cell_type": "code",
   "execution_count": 24,
   "id": "d1757933",
   "metadata": {},
   "outputs": [
    {
     "data": {
      "text/plain": [
       "'Pi is equal to 3.14'"
      ]
     },
     "execution_count": 24,
     "metadata": {},
     "output_type": "execute_result"
    }
   ],
   "source": [
    "sentence='Pi is equal to {:.2f}'.format(pi) #Decimal Places Format\n",
    "sentence"
   ]
  },
  {
   "cell_type": "code",
   "execution_count": 25,
   "id": "73ac71b1",
   "metadata": {},
   "outputs": [
    {
     "data": {
      "text/plain": [
       "'1 MB is equal to 1000000 bytes'"
      ]
     },
     "execution_count": 25,
     "metadata": {},
     "output_type": "execute_result"
    }
   ],
   "source": [
    "sentence='1 MB is equal to {} bytes'.format(1000**2)\n",
    "sentence"
   ]
  },
  {
   "cell_type": "code",
   "execution_count": 27,
   "id": "5916f0bd",
   "metadata": {},
   "outputs": [
    {
     "data": {
      "text/plain": [
       "'1 MB is equal to 1,000,000.00 bytes'"
      ]
     },
     "execution_count": 27,
     "metadata": {},
     "output_type": "execute_result"
    }
   ],
   "source": [
    "#Now We want to add comma for better Understanding as well as 2 decimal places\n",
    "sentence='1 MB is equal to {:,.2f} bytes'.format(1000**2) \n",
    "sentence"
   ]
  },
  {
   "cell_type": "code",
   "execution_count": 30,
   "id": "3d3a178c",
   "metadata": {},
   "outputs": [
    {
     "name": "stdout",
     "output_type": "stream",
     "text": [
      "2016-09-24 12:30:45\n"
     ]
    }
   ],
   "source": [
    "import datetime\n",
    "my_date=datetime.datetime(2016,9,24,12,30,45)\n",
    "print(my_date)"
   ]
  },
  {
   "cell_type": "code",
   "execution_count": 32,
   "id": "64776089",
   "metadata": {},
   "outputs": [
    {
     "data": {
      "text/plain": [
       "'September 24, 2016'"
      ]
     },
     "execution_count": 32,
     "metadata": {},
     "output_type": "execute_result"
    }
   ],
   "source": [
    "sentence='{:%B %d, %Y}'.format(my_date)\n",
    "sentence"
   ]
  },
  {
   "cell_type": "code",
   "execution_count": 34,
   "id": "72183d63",
   "metadata": {},
   "outputs": [
    {
     "data": {
      "text/plain": [
       "'September 24, 2016 fell on a Saturday and was the 268 day of the year'"
      ]
     },
     "execution_count": 34,
     "metadata": {},
     "output_type": "execute_result"
    }
   ],
   "source": [
    "#September 24, 2016 fell on a Tuesday and was the 061 day of the year.\n",
    "sentence='{0:%B %d, %Y} fell on a {0:%A} and was the {0:%j} day of the year'.format(my_date)\n",
    "#Without 0 it will give error as there are 3 place holder for our single value my_date so we provide the index.\n",
    "sentence"
   ]
  }
 ],
 "metadata": {
  "kernelspec": {
   "display_name": "Python 3 (ipykernel)",
   "language": "python",
   "name": "python3"
  },
  "language_info": {
   "codemirror_mode": {
    "name": "ipython",
    "version": 3
   },
   "file_extension": ".py",
   "mimetype": "text/x-python",
   "name": "python",
   "nbconvert_exporter": "python",
   "pygments_lexer": "ipython3",
   "version": "3.10.5"
  }
 },
 "nbformat": 4,
 "nbformat_minor": 5
}
