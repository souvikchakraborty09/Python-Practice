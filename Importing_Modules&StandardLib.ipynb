{
 "cells": [
  {
   "cell_type": "code",
   "execution_count": null,
   "id": "da6d3fa2",
   "metadata": {},
   "outputs": [],
   "source": [
    "#This is my_module.py or module we created\n",
    "print('Imported my_module...')\n",
    "\n",
    "test = 'Test String'\n",
    "\n",
    "def find_index(to_search, target):\n",
    "    #Find the index of a value in a sequence\n",
    "    for i,value in enumerate(to_search):\n",
    "        if value==target:\n",
    "            return i\n",
    "    return -1\n"
   ]
  },
  {
   "cell_type": "code",
   "execution_count": null,
   "id": "15697716",
   "metadata": {},
   "outputs": [],
   "source": [
    "#import my_module as mm (This is how we import module)\n",
    "# from my_module import find_index (Only access to find_index function)\n",
    "courses=['History','Math','Physics','CompSci']\n",
    "index=mm.find_index(courses,'Math')\n",
    "print(index)\n"
   ]
  },
  {
   "cell_type": "code",
   "execution_count": 5,
   "id": "c1f06700",
   "metadata": {},
   "outputs": [
    {
     "name": "stdout",
     "output_type": "stream",
     "text": [
      "['C:\\\\Users\\\\91825\\\\OneDrive\\\\Desktop\\\\Python Practice', 'C:\\\\Users\\\\91825\\\\AppData\\\\Local\\\\Programs\\\\Python\\\\Python310\\\\python310.zip', 'C:\\\\Users\\\\91825\\\\AppData\\\\Local\\\\Programs\\\\Python\\\\Python310\\\\DLLs', 'C:\\\\Users\\\\91825\\\\AppData\\\\Local\\\\Programs\\\\Python\\\\Python310\\\\lib', 'C:\\\\Users\\\\91825\\\\AppData\\\\Local\\\\Programs\\\\Python\\\\Python310', '', 'C:\\\\Users\\\\91825\\\\AppData\\\\Local\\\\Programs\\\\Python\\\\Python310\\\\lib\\\\site-packages', 'C:\\\\Users\\\\91825\\\\AppData\\\\Local\\\\Programs\\\\Python\\\\Python310\\\\lib\\\\site-packages\\\\win32', 'C:\\\\Users\\\\91825\\\\AppData\\\\Local\\\\Programs\\\\Python\\\\Python310\\\\lib\\\\site-packages\\\\win32\\\\lib', 'C:\\\\Users\\\\91825\\\\AppData\\\\Local\\\\Programs\\\\Python\\\\Python310\\\\lib\\\\site-packages\\\\Pythonwin']\n"
     ]
    }
   ],
   "source": [
    "import sys\n",
    "print(sys.path) #List of path in my directory where python looks for modules."
   ]
  },
  {
   "cell_type": "code",
   "execution_count": null,
   "id": "a0151260",
   "metadata": {},
   "outputs": [],
   "source": [
    "#sys.path.append('users/91825/desktop/my_modules') [To add any module to lib]"
   ]
  },
  {
   "cell_type": "code",
   "execution_count": 8,
   "id": "597e1dfa",
   "metadata": {},
   "outputs": [
    {
     "name": "stdout",
     "output_type": "stream",
     "text": [
      "1.5707963267948966\n"
     ]
    }
   ],
   "source": [
    "import math\n",
    "rads=math.radians(90)\n",
    "print(rads)"
   ]
  },
  {
   "cell_type": "code",
   "execution_count": 10,
   "id": "971d1299",
   "metadata": {},
   "outputs": [
    {
     "name": "stdout",
     "output_type": "stream",
     "text": [
      "1.0\n"
     ]
    }
   ],
   "source": [
    "print(math.sin(rads))"
   ]
  },
  {
   "cell_type": "code",
   "execution_count": 14,
   "id": "28fa45e4",
   "metadata": {},
   "outputs": [
    {
     "name": "stdout",
     "output_type": "stream",
     "text": [
      "2024-01-25\n",
      "True\n"
     ]
    }
   ],
   "source": [
    "import datetime\n",
    "import calendar\n",
    "\n",
    "today=datetime.date.today()\n",
    "print(today)\n",
    "print(calendar.isleap(2024))"
   ]
  },
  {
   "cell_type": "code",
   "execution_count": 15,
   "id": "39bd0842",
   "metadata": {},
   "outputs": [
    {
     "name": "stdout",
     "output_type": "stream",
     "text": [
      "C:\\Users\\91825\\OneDrive\\Desktop\\Python Practice\n"
     ]
    }
   ],
   "source": [
    "import os #Gives access to underlying operating system\n",
    "print(os.getcwd())"
   ]
  },
  {
   "cell_type": "code",
   "execution_count": 16,
   "id": "4391ad18",
   "metadata": {},
   "outputs": [
    {
     "name": "stdout",
     "output_type": "stream",
     "text": [
      "C:\\Users\\91825\\AppData\\Local\\Programs\\Python\\Python310\\lib\\os.py\n"
     ]
    }
   ],
   "source": [
    "print(os.__file__) ##Location of a module can be find out by using .__file__"
   ]
  },
  {
   "cell_type": "code",
   "execution_count": 17,
   "id": "5548be84",
   "metadata": {},
   "outputs": [],
   "source": [
    "import antigravity #Opens an webpage of comics."
   ]
  }
 ],
 "metadata": {
  "kernelspec": {
   "display_name": "Python 3 (ipykernel)",
   "language": "python",
   "name": "python3"
  },
  "language_info": {
   "codemirror_mode": {
    "name": "ipython",
    "version": 3
   },
   "file_extension": ".py",
   "mimetype": "text/x-python",
   "name": "python",
   "nbconvert_exporter": "python",
   "pygments_lexer": "ipython3",
   "version": "3.10.5"
  }
 },
 "nbformat": 4,
 "nbformat_minor": 5
}
