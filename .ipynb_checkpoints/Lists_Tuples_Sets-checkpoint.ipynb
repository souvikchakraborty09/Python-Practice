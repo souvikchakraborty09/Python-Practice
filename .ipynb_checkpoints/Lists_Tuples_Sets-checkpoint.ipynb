{
 "cells": [
  {
   "cell_type": "code",
   "execution_count": null,
   "id": "7688a04c",
   "metadata": {},
   "outputs": [],
   "source": [
    "##List & Tuples allows us to work with sequential Data\n",
    "## Whereas, Sets are unordered collection and Values with no Duplicates"
   ]
  },
  {
   "cell_type": "code",
   "execution_count": 41,
   "id": "1c738441",
   "metadata": {},
   "outputs": [
    {
     "name": "stdout",
     "output_type": "stream",
     "text": [
      "['Eng', 'His', 'Maths', 'CompSci']\n",
      "4\n"
     ]
    }
   ],
   "source": [
    "courses = ['Eng','His','Maths','CompSci']\n",
    "print(courses)\n",
    "print(len(courses))"
   ]
  },
  {
   "cell_type": "code",
   "execution_count": 8,
   "id": "593be876",
   "metadata": {},
   "outputs": [
    {
     "name": "stdout",
     "output_type": "stream",
     "text": [
      "Maths\n",
      "CompSci\n",
      "['Eng', 'His', 'Maths']\n"
     ]
    }
   ],
   "source": [
    "print(courses[2])\n",
    "print(courses[-1]) ##Last item\n",
    "print(courses[0:3])##0 to n-1\n",
    "#print(courses[6]) ##IndexError: list index out of range"
   ]
  },
  {
   "cell_type": "code",
   "execution_count": 4,
   "id": "37ac8591",
   "metadata": {},
   "outputs": [
    {
     "name": "stdout",
     "output_type": "stream",
     "text": [
      "S\n"
     ]
    }
   ],
   "source": [
    "a = 'Souvik'\n",
    "b = list(a)\n",
    "print(b[0])"
   ]
  },
  {
   "cell_type": "code",
   "execution_count": 37,
   "id": "c7a140dd",
   "metadata": {},
   "outputs": [
    {
     "name": "stdout",
     "output_type": "stream",
     "text": [
      "['Physical Edu', 'Eng', 'His', 'Maths', 'CompSci', 'Art']\n"
     ]
    }
   ],
   "source": [
    "courses.append('Art') ##It adds the value at the last\n",
    "courses.insert(0,'Physical Edu') ## It adds to the provided location (loc,value)\n",
    "courses_2 = ['Sci','Chem']\n",
    "##courses.insert(0,courses_2)\n",
    "print(courses)"
   ]
  },
  {
   "cell_type": "code",
   "execution_count": 38,
   "id": "31659a5f",
   "metadata": {},
   "outputs": [
    {
     "name": "stdout",
     "output_type": "stream",
     "text": [
      "Chem\n",
      "['Physical Edu', 'Eng', 'His', 'Maths', 'CompSci', 'Sci']\n"
     ]
    }
   ],
   "source": [
    "courses.extend(courses_2) ## courses_2 is added as its string value.\n",
    "courses.remove('Art')\n",
    "popped=courses.pop() ##It removes the last Value by default.\n",
    "print(popped)\n",
    "print(courses)"
   ]
  },
  {
   "cell_type": "code",
   "execution_count": 43,
   "id": "f6e4eb4c",
   "metadata": {},
   "outputs": [
    {
     "name": "stdout",
     "output_type": "stream",
     "text": [
      "['CompSci', 'Maths', 'His', 'Eng']\n"
     ]
    }
   ],
   "source": [
    "courses = ['Eng','His','Maths','CompSci']\n",
    "courses.reverse() ##It reverses the elements\n",
    "print(courses)"
   ]
  },
  {
   "cell_type": "code",
   "execution_count": 47,
   "id": "e5387382",
   "metadata": {},
   "outputs": [
    {
     "name": "stdout",
     "output_type": "stream",
     "text": [
      "['CompSci', 'Eng', 'His', 'Maths']\n",
      "[1, 2, 3, 6, 7, 8, 9]\n",
      "[9, 8, 7, 6, 3, 2, 1]\n"
     ]
    }
   ],
   "source": [
    "courses.sort() ##Sorts lexicographically\n",
    "print(courses) \n",
    "nums = [1,6,3,7,8,2,9]\n",
    "nums.sort() ##Sorts in asc order\n",
    "print(nums)\n",
    "nums.sort(reverse=True) ##Sorts in desc order\n",
    "print(nums)"
   ]
  },
  {
   "cell_type": "code",
   "execution_count": 49,
   "id": "5f745efa",
   "metadata": {},
   "outputs": [
    {
     "name": "stdout",
     "output_type": "stream",
     "text": [
      "['CompSci', 'Eng', 'His', 'Maths']\n"
     ]
    }
   ],
   "source": [
    "sorted_courses=sorted(courses)\n",
    "print(sorted_courses)"
   ]
  },
  {
   "cell_type": "code",
   "execution_count": 51,
   "id": "7b778766",
   "metadata": {},
   "outputs": [
    {
     "data": {
      "text/plain": [
       "9"
      ]
     },
     "execution_count": 51,
     "metadata": {},
     "output_type": "execute_result"
    }
   ],
   "source": [
    "min(nums)\n",
    "max(nums)"
   ]
  },
  {
   "cell_type": "code",
   "execution_count": 54,
   "id": "0634b31d",
   "metadata": {},
   "outputs": [
    {
     "name": "stdout",
     "output_type": "stream",
     "text": [
      "0\n",
      "False\n",
      "True\n"
     ]
    }
   ],
   "source": [
    "print(courses.index('CompSci')) ##Index of string\n",
    "print('Art' in courses)\n",
    "print('Maths' in courses)"
   ]
  },
  {
   "cell_type": "code",
   "execution_count": 55,
   "id": "408c16de",
   "metadata": {},
   "outputs": [
    {
     "name": "stdout",
     "output_type": "stream",
     "text": [
      "CompSci\n",
      "Eng\n",
      "His\n",
      "Maths\n"
     ]
    }
   ],
   "source": [
    "##Looping Through\n",
    "for item in courses:\n",
    "    print(item)"
   ]
  },
  {
   "cell_type": "code",
   "execution_count": 56,
   "id": "218bd6a1",
   "metadata": {},
   "outputs": [
    {
     "name": "stdout",
     "output_type": "stream",
     "text": [
      "(0, 'CompSci')\n",
      "(1, 'Eng')\n",
      "(2, 'His')\n",
      "(3, 'Maths')\n"
     ]
    }
   ],
   "source": [
    "##Gives Access to index and value\n",
    "for item in enumerate(courses):\n",
    "    print(item)"
   ]
  },
  {
   "cell_type": "code",
   "execution_count": 57,
   "id": "c00257c0",
   "metadata": {},
   "outputs": [
    {
     "name": "stdout",
     "output_type": "stream",
     "text": [
      "(1, 'CompSci')\n",
      "(2, 'Eng')\n",
      "(3, 'His')\n",
      "(4, 'Maths')\n"
     ]
    }
   ],
   "source": [
    "for item in enumerate(courses,1):\n",
    "    print(item)"
   ]
  },
  {
   "cell_type": "code",
   "execution_count": 66,
   "id": "4f2f15d6",
   "metadata": {},
   "outputs": [
    {
     "name": "stdout",
     "output_type": "stream",
     "text": [
      "CompSci, Eng, His, Maths\n",
      "['CompSci', 'Eng', 'His', 'Maths']\n"
     ]
    }
   ],
   "source": [
    "course_str = ', '.join(courses) ##Prints element of list in str separated by (, , - ,etc)\n",
    "print(course_str)\n",
    "new_list = course_str.split(', ') ##Convert it into list. i.e the string was eariler separated by ', '\n",
    "print(new_list)"
   ]
  },
  {
   "cell_type": "code",
   "execution_count": null,
   "id": "93a819e8",
   "metadata": {},
   "outputs": [],
   "source": [
    "##Tuples [It can't be modified i.e - immutable]"
   ]
  },
  {
   "cell_type": "code",
   "execution_count": 69,
   "id": "21733885",
   "metadata": {},
   "outputs": [
    {
     "name": "stdout",
     "output_type": "stream",
     "text": [
      "['History', 'Math', 'Physics', 'CompSci']\n",
      "['History', 'Math', 'Physics', 'CompSci']\n",
      "['Art', 'Math', 'Physics', 'CompSci']\n"
     ]
    }
   ],
   "source": [
    "#Mutable\n",
    "list_1 = ['History','Math','Physics','CompSci']\n",
    "list_2 = list_1\n",
    "\n",
    "print(list_1)\n",
    "print(list_2)\n",
    "\n",
    "list_1[0]='Art'\n",
    "print(list_1)"
   ]
  },
  {
   "cell_type": "code",
   "execution_count": null,
   "id": "9dcd268f",
   "metadata": {},
   "outputs": [],
   "source": []
  },
  {
   "cell_type": "code",
   "execution_count": null,
   "id": "18f09b9f",
   "metadata": {},
   "outputs": [],
   "source": []
  }
 ],
 "metadata": {
  "kernelspec": {
   "display_name": "Python 3 (ipykernel)",
   "language": "python",
   "name": "python3"
  },
  "language_info": {
   "codemirror_mode": {
    "name": "ipython",
    "version": 3
   },
   "file_extension": ".py",
   "mimetype": "text/x-python",
   "name": "python",
   "nbconvert_exporter": "python",
   "pygments_lexer": "ipython3",
   "version": "3.10.5"
  }
 },
 "nbformat": 4,
 "nbformat_minor": 5
}
