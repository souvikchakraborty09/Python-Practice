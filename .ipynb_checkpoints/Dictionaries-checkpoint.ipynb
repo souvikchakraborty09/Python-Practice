{
 "cells": [
  {
   "cell_type": "code",
   "execution_count": null,
   "id": "ecf6e70b",
   "metadata": {},
   "outputs": [],
   "source": [
    "##It allows us to work with key-value (e.g-Hashmap/Associate of arrays)"
   ]
  },
  {
   "cell_type": "code",
   "execution_count": 28,
   "id": "8fc6801a",
   "metadata": {},
   "outputs": [
    {
     "name": "stdout",
     "output_type": "stream",
     "text": [
      "{'name': 'Souvik', 'Roll': '09', 'Courses': ['Math', 'CompSci']}\n"
     ]
    }
   ],
   "source": [
    "student={'name':'Souvik','Roll':'09','Courses':['Math','CompSci']}\n",
    "print(student)"
   ]
  },
  {
   "cell_type": "code",
   "execution_count": 3,
   "id": "576b6e7c",
   "metadata": {},
   "outputs": [
    {
     "name": "stdout",
     "output_type": "stream",
     "text": [
      "Souvik\n"
     ]
    }
   ],
   "source": [
    "print(student['name'])"
   ]
  },
  {
   "cell_type": "code",
   "execution_count": 5,
   "id": "1c472dfb",
   "metadata": {},
   "outputs": [
    {
     "name": "stdout",
     "output_type": "stream",
     "text": [
      "Souvik\n"
     ]
    }
   ],
   "source": [
    "print(student.get('name'))"
   ]
  },
  {
   "cell_type": "code",
   "execution_count": 18,
   "id": "fa01a897",
   "metadata": {},
   "outputs": [
    {
     "name": "stdout",
     "output_type": "stream",
     "text": [
      "None\n",
      "Not_Found\n"
     ]
    }
   ],
   "source": [
    "print(student.get('phone')) ##get creates a default for key that doesn't exist.\n",
    "print(student.get('phone','Not_Found')) ##We create a default value as Not Found by ourselves."
   ]
  },
  {
   "cell_type": "code",
   "execution_count": 19,
   "id": "c2fdccf9",
   "metadata": {},
   "outputs": [
    {
     "name": "stdout",
     "output_type": "stream",
     "text": [
      "{'name': 'Jane', 'Roll': '09', 'Courses': ['Math', 'CompSci'], 'phone': '555-4545'}\n"
     ]
    }
   ],
   "source": [
    "#adding new entry to our dict.\n",
    "student['phone']='555-4545'##New phone added at the last.\n",
    "student['name']='Jane'\n",
    "print(student)"
   ]
  },
  {
   "cell_type": "code",
   "execution_count": 10,
   "id": "914c5adb",
   "metadata": {},
   "outputs": [
    {
     "name": "stdout",
     "output_type": "stream",
     "text": [
      "{'name': 'jane', 'Roll': '26', 'Courses': ['Math', 'CompSci'], 'phone': '555-4556'}\n"
     ]
    }
   ],
   "source": [
    "student.update({'name':'jane','Roll':'26','phone':'555-4556'})\n",
    "print(student)"
   ]
  },
  {
   "cell_type": "code",
   "execution_count": 25,
   "id": "4ed83a37",
   "metadata": {},
   "outputs": [
    {
     "name": "stdout",
     "output_type": "stream",
     "text": [
      "{'name': 'Souvik', 'Roll': '09'}\n"
     ]
    }
   ],
   "source": [
    "##Deleting specific key or its value\n",
    "del student['Courses']\n",
    "print(student)"
   ]
  },
  {
   "cell_type": "code",
   "execution_count": 26,
   "id": "1c363883",
   "metadata": {},
   "outputs": [
    {
     "name": "stdout",
     "output_type": "stream",
     "text": [
      "09\n"
     ]
    }
   ],
   "source": [
    "#Another way to del a key and get it's value in return\n",
    "roll=student.pop('Roll')\n",
    "print(roll)"
   ]
  },
  {
   "cell_type": "code",
   "execution_count": 27,
   "id": "4856b45e",
   "metadata": {},
   "outputs": [
    {
     "name": "stdout",
     "output_type": "stream",
     "text": [
      "{'name': 'Souvik'}\n"
     ]
    }
   ],
   "source": [
    "print(student)"
   ]
  },
  {
   "cell_type": "code",
   "execution_count": 29,
   "id": "7978adf8",
   "metadata": {},
   "outputs": [
    {
     "name": "stdout",
     "output_type": "stream",
     "text": [
      "3\n"
     ]
    }
   ],
   "source": [
    "#Loop Through keys and values of dict.\n",
    "print(len(student))"
   ]
  },
  {
   "cell_type": "code",
   "execution_count": 31,
   "id": "2c796298",
   "metadata": {},
   "outputs": [
    {
     "name": "stdout",
     "output_type": "stream",
     "text": [
      "dict_keys(['name', 'Roll', 'Courses'])\n",
      "dict_values(['Souvik', '09', ['Math', 'CompSci']])\n"
     ]
    }
   ],
   "source": [
    "print(student.keys())\n",
    "print(student.values())\n"
   ]
  },
  {
   "cell_type": "code",
   "execution_count": 32,
   "id": "0f75de86",
   "metadata": {},
   "outputs": [
    {
     "name": "stdout",
     "output_type": "stream",
     "text": [
      "dict_items([('name', 'Souvik'), ('Roll', '09'), ('Courses', ['Math', 'CompSci'])])\n"
     ]
    }
   ],
   "source": [
    "print(student.items())"
   ]
  },
  {
   "cell_type": "code",
   "execution_count": 33,
   "id": "ec3df6e4",
   "metadata": {},
   "outputs": [
    {
     "name": "stdout",
     "output_type": "stream",
     "text": [
      "name\n",
      "Roll\n",
      "Courses\n"
     ]
    }
   ],
   "source": [
    "for key in student:\n",
    "    print(key)"
   ]
  },
  {
   "cell_type": "code",
   "execution_count": 38,
   "id": "43da0e8f",
   "metadata": {},
   "outputs": [
    {
     "name": "stdout",
     "output_type": "stream",
     "text": [
      "name Souvik\n",
      "Roll 09\n",
      "Courses ['Math', 'CompSci']\n"
     ]
    }
   ],
   "source": [
    "for key,value in student.items():\n",
    "    print(key,value)"
   ]
  },
  {
   "cell_type": "code",
   "execution_count": null,
   "id": "d5ca5891",
   "metadata": {},
   "outputs": [],
   "source": []
  }
 ],
 "metadata": {
  "kernelspec": {
   "display_name": "Python 3 (ipykernel)",
   "language": "python",
   "name": "python3"
  },
  "language_info": {
   "codemirror_mode": {
    "name": "ipython",
    "version": 3
   },
   "file_extension": ".py",
   "mimetype": "text/x-python",
   "name": "python",
   "nbconvert_exporter": "python",
   "pygments_lexer": "ipython3",
   "version": "3.10.5"
  }
 },
 "nbformat": 4,
 "nbformat_minor": 5
}
