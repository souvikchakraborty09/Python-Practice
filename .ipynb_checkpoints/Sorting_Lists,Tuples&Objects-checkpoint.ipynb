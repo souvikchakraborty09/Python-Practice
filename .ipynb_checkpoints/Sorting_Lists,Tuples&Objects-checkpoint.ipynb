{
 "cells": [
  {
   "cell_type": "code",
   "execution_count": 2,
   "id": "9c60e58e",
   "metadata": {},
   "outputs": [
    {
     "name": "stdout",
     "output_type": "stream",
     "text": [
      "[1, 2, 3, 4, 5, 6, 7, 8, 9]\n"
     ]
    }
   ],
   "source": [
    "li = [9,1,8,2,7,3,6,4,5]\n",
    "s_li = sorted(li)\n",
    "print(s_li)"
   ]
  },
  {
   "cell_type": "code",
   "execution_count": 5,
   "id": "e129fceb",
   "metadata": {},
   "outputs": [
    {
     "name": "stdout",
     "output_type": "stream",
     "text": [
      "Sorted Variable:\t [1, 2, 3, 4, 5, 6, 7, 8, 9]\n",
      "Original Variable:\t [9, 1, 8, 2, 7, 3, 6, 4, 5]\n"
     ]
    }
   ],
   "source": [
    "print('Sorted Variable:\\t',s_li)\n",
    "print('Original Variable:\\t',li)\n"
   ]
  },
  {
   "cell_type": "code",
   "execution_count": 7,
   "id": "f8ec2180",
   "metadata": {},
   "outputs": [
    {
     "data": {
      "text/plain": [
       "[1, 2, 3, 4, 5, 6, 7, 8, 9]"
      ]
     },
     "execution_count": 7,
     "metadata": {},
     "output_type": "execute_result"
    }
   ],
   "source": [
    "li.sort() #It sorts the original without creating new variable.\n",
    "li"
   ]
  },
  {
   "cell_type": "code",
   "execution_count": 8,
   "id": "dffdc9a6",
   "metadata": {},
   "outputs": [
    {
     "name": "stdout",
     "output_type": "stream",
     "text": [
      "[9, 8, 7, 6, 5, 4, 3, 2, 1]\n"
     ]
    }
   ],
   "source": [
    "li = [9,1,8,2,7,3,6,4,5]\n",
    "s_li = sorted(li, reverse=True) #Desc. Order\n",
    "print(s_li)"
   ]
  },
  {
   "cell_type": "code",
   "execution_count": 9,
   "id": "ddaf363a",
   "metadata": {},
   "outputs": [
    {
     "data": {
      "text/plain": [
       "[9, 8, 7, 6, 5, 4, 3, 2, 1]"
      ]
     },
     "execution_count": 9,
     "metadata": {},
     "output_type": "execute_result"
    }
   ],
   "source": [
    "li.sort(reverse=True) #It sorts the original without creating new variable in desc order.\n",
    "li"
   ]
  },
  {
   "cell_type": "code",
   "execution_count": 11,
   "id": "83983fb7",
   "metadata": {},
   "outputs": [],
   "source": [
    "#Tuples\n",
    "tup=(9,1,8,2,7,6,4,5,3)"
   ]
  },
  {
   "cell_type": "code",
   "execution_count": 13,
   "id": "20028aec",
   "metadata": {},
   "outputs": [
    {
     "name": "stdout",
     "output_type": "stream",
     "text": [
      "Tuples: \t (9, 1, 8, 2, 7, 6, 4, 5, 3)\n",
      "Sorted Tuples: \t [1, 2, 3, 4, 5, 6, 7, 8, 9]\n"
     ]
    }
   ],
   "source": [
    "#Tuples doesn't have sort method\n",
    "#tup.sort() #This won't work\n",
    "s_tup=sorted(tup)\n",
    "print('Tuples: \\t',tup)\n",
    "print('Sorted Tuples: \\t',s_tup)"
   ]
  },
  {
   "cell_type": "code",
   "execution_count": 15,
   "id": "79282aa1",
   "metadata": {},
   "outputs": [
    {
     "name": "stdout",
     "output_type": "stream",
     "text": [
      "Dictionary: \t {'name': 'Souvik', 'Job': 'Programmer', 'age': None, 'os': 'Windows'}\n",
      "Sorted Dictionary: \t ['Job', 'age', 'name', 'os']\n"
     ]
    }
   ],
   "source": [
    "di = {'name':'Souvik','Job':'Programmer','age':None,'os':'Windows'}\n",
    "s_di=sorted(di) #It will sort the keys\n",
    "print('Dictionary: \\t',di)\n",
    "print('Sorted Dictionary: \\t',s_di)"
   ]
  },
  {
   "cell_type": "code",
   "execution_count": 19,
   "id": "fe711302",
   "metadata": {},
   "outputs": [
    {
     "data": {
      "text/plain": [
       "[-6, -5, -4, 1, 2, 3]"
      ]
     },
     "execution_count": 19,
     "metadata": {},
     "output_type": "execute_result"
    }
   ],
   "source": [
    "li=[-6,-5,-4,1,2,3]\n",
    "s_li=sorted(li)\n",
    "s_li"
   ]
  },
  {
   "cell_type": "code",
   "execution_count": 18,
   "id": "7a7043b3",
   "metadata": {},
   "outputs": [
    {
     "data": {
      "text/plain": [
       "[1, 2, 3, -4, -5, -6]"
      ]
     },
     "execution_count": 18,
     "metadata": {},
     "output_type": "execute_result"
    }
   ],
   "source": [
    "li=[-6,-5,-4,1,2,3]\n",
    "s_li=sorted(li,key=abs) #abs value fn. is considered and negative is removed.\n",
    "s_li"
   ]
  },
  {
   "cell_type": "code",
   "execution_count": 22,
   "id": "f0614ca4",
   "metadata": {},
   "outputs": [
    {
     "data": {
      "text/plain": [
       "[(Souvik,21,Rs10000), (Messi,35,Rs40000), (Ronaldo,37,Rs30000)]"
      ]
     },
     "execution_count": 22,
     "metadata": {},
     "output_type": "execute_result"
    }
   ],
   "source": [
    "class Employee:\n",
    "    def __init__(self,name,age,salary):\n",
    "        self.name=name\n",
    "        self.age=age\n",
    "        self.salary=salary\n",
    "        \n",
    "    def __repr__(self):\n",
    "        return '({},{},Rs{})'.format(self.name,self.age,self.salary)\n",
    "    \n",
    "e1=Employee('Souvik',21,10000)\n",
    "e2=Employee('Messi',35,40000)\n",
    "e3=Employee('Ronaldo',37,30000)\n",
    "\n",
    "employees=[e1,e2,e3]\n",
    "#s_employees=sorted(employees) #It gives Type-error\n",
    "def e_sort(emp):\n",
    "    return emp.age\n",
    "s_employees=sorted(employees,key=e_sort) #We can also use reverse=True\n",
    "s_employees"
   ]
  },
  {
   "cell_type": "code",
   "execution_count": 24,
   "id": "ccdea123",
   "metadata": {},
   "outputs": [
    {
     "data": {
      "text/plain": [
       "[(Messi,35,Rs40000), (Ronaldo,37,Rs30000), (Souvik,21,Rs10000)]"
      ]
     },
     "execution_count": 24,
     "metadata": {},
     "output_type": "execute_result"
    }
   ],
   "source": [
    "s_employees=sorted(employees,key=lambda e: e.name) #Works equally as e_sort fn.\n",
    "s_employees"
   ]
  },
  {
   "cell_type": "code",
   "execution_count": 25,
   "id": "2ba9afc8",
   "metadata": {},
   "outputs": [
    {
     "data": {
      "text/plain": [
       "[(Souvik,21,Rs10000), (Ronaldo,37,Rs30000), (Messi,35,Rs40000)]"
      ]
     },
     "execution_count": 25,
     "metadata": {},
     "output_type": "execute_result"
    }
   ],
   "source": [
    "from operator import attrgetter #Sort using custom fn.\n",
    "s_employees=sorted(employees,key=attrgetter('salary'))\n",
    "s_employees"
   ]
  }
 ],
 "metadata": {
  "kernelspec": {
   "display_name": "Python 3 (ipykernel)",
   "language": "python",
   "name": "python3"
  },
  "language_info": {
   "codemirror_mode": {
    "name": "ipython",
    "version": 3
   },
   "file_extension": ".py",
   "mimetype": "text/x-python",
   "name": "python",
   "nbconvert_exporter": "python",
   "pygments_lexer": "ipython3",
   "version": "3.10.5"
  }
 },
 "nbformat": 4,
 "nbformat_minor": 5
}
