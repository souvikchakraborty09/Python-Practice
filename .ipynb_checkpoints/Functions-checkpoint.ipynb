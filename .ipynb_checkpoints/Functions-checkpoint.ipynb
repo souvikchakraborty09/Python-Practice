{
 "cells": [
  {
   "cell_type": "code",
   "execution_count": 2,
   "id": "82dd2c3c",
   "metadata": {},
   "outputs": [
    {
     "name": "stdout",
     "output_type": "stream",
     "text": [
      "<function hello_func at 0x000001C87CBFBEB0>\n"
     ]
    }
   ],
   "source": [
    "#Functions - Basically packaged instructions to perform some tasks.\n",
    "def hello_func():\n",
    "    pass #It states we don't want to code anything for now but it won't throw any error if left empty.\n",
    "print(hello_func) #It print that hello_func is a function at certain location in memory."
   ]
  },
  {
   "cell_type": "code",
   "execution_count": 3,
   "id": "b9f3936a",
   "metadata": {},
   "outputs": [
    {
     "name": "stdout",
     "output_type": "stream",
     "text": [
      "None\n"
     ]
    }
   ],
   "source": [
    "print(hello_func())"
   ]
  },
  {
   "cell_type": "code",
   "execution_count": 20,
   "id": "4991c54f",
   "metadata": {},
   "outputs": [
    {
     "name": "stdout",
     "output_type": "stream",
     "text": [
      "Hello Function!\n",
      "None\n",
      "Hello Function!\n"
     ]
    }
   ],
   "source": [
    "def hello_func():\n",
    "    print('Hello Function!')\n",
    "\n",
    "print(hello_func())\n",
    "hello_func()"
   ]
  },
  {
   "cell_type": "code",
   "execution_count": 9,
   "id": "4364021d",
   "metadata": {},
   "outputs": [
    {
     "name": "stdout",
     "output_type": "stream",
     "text": [
      "Hello Function!\n",
      "Hello Function!\n",
      "Hello Function!\n",
      "Hello Function!\n",
      "Hello Function!\n"
     ]
    }
   ],
   "source": [
    "for i in range(5):\n",
    "    hello_func()\n",
    "    i+=1"
   ]
  },
  {
   "cell_type": "code",
   "execution_count": 10,
   "id": "ad2901cd",
   "metadata": {},
   "outputs": [
    {
     "name": "stdout",
     "output_type": "stream",
     "text": [
      "4\n"
     ]
    }
   ],
   "source": [
    "print(len('Test')) ##Here, len is function."
   ]
  },
  {
   "cell_type": "code",
   "execution_count": 19,
   "id": "c4ea55ff",
   "metadata": {},
   "outputs": [
    {
     "name": "stdout",
     "output_type": "stream",
     "text": [
      "Hello Function!\n",
      "HELLO FUNCTION!\n"
     ]
    }
   ],
   "source": [
    "def hello_func():\n",
    "    return 'Hello Function!'\n",
    "\n",
    "print(hello_func())\n",
    "hello_func()\n",
    "print(hello_func().upper())"
   ]
  },
  {
   "cell_type": "code",
   "execution_count": 24,
   "id": "9b305232",
   "metadata": {},
   "outputs": [
    {
     "name": "stdout",
     "output_type": "stream",
     "text": [
      "Hi, Souvik Function\n"
     ]
    }
   ],
   "source": [
    "def hello_func(greeting, name):\n",
    "    print('{}, {} Function'.format(greeting,name))\n",
    "\n",
    "hello_func(\"Hi\",\"Souvik\")"
   ]
  },
  {
   "cell_type": "code",
   "execution_count": 26,
   "id": "86ae5948",
   "metadata": {},
   "outputs": [
    {
     "name": "stdout",
     "output_type": "stream",
     "text": [
      "('Math', 'Art')\n",
      "{'name': 'John', 'age': 22}\n"
     ]
    }
   ],
   "source": [
    "def student_info(*args, **kwargs): #It allows us to accept arbitrary no. of positonal or keyword arguments.\n",
    "    print(args)\n",
    "    print(kwargs)\n",
    "student_info('Math','Art', name='John', age=22) #It gives output as args as tuples at positional argument & \n",
    "#kwargs as dictionaries."
   ]
  },
  {
   "cell_type": "code",
   "execution_count": 28,
   "id": "a441244b",
   "metadata": {},
   "outputs": [
    {
     "name": "stdout",
     "output_type": "stream",
     "text": [
      "(['Math', 'Art'], {'name': 'John', 'age': 22})\n",
      "{}\n",
      "('Math', 'Art')\n",
      "{'name': 'John', 'age': 22}\n"
     ]
    }
   ],
   "source": [
    "def student_info(*args, **kwargs): #It allows us to accept arbitrary no. of positonal or keyword arguments.\n",
    "    print(args)\n",
    "    print(kwargs)\n",
    "\n",
    "courses = ['Math','Art'] #created a list\n",
    "info = {'name':'John','age':22} #A Dict.\n",
    "student_info(courses, info) #Instead passing values individually.\n",
    "#It gives output by passing complete list and complete Dictionary as positional Arguments.\n",
    "#So,It(*args, **kwargs) actually unpacks the value and pass them individually.\n",
    "student_info(*courses, **info) # It gives desired output."
   ]
  },
  {
   "cell_type": "code",
   "execution_count": 32,
   "id": "dffbcd8d",
   "metadata": {},
   "outputs": [
    {
     "name": "stdout",
     "output_type": "stream",
     "text": [
      "True\n",
      "29\n"
     ]
    }
   ],
   "source": [
    "#Number of days per month. First Value placeholder for indexing purposes.\n",
    "month_days = [0,31,28,31,30,31,30,31,31,30,31,30,31]\n",
    "\n",
    "def is_leap(year):\n",
    "    #Return true for leap years, False for non-leap years.\n",
    "    return year%4==0 and (year%100 != 0 or year%400 == 0)\n",
    "\n",
    "def days_in_month(year, month):\n",
    "    #Return number of days in that month in that year.\n",
    "    \n",
    "    if not 1 <= month <= 12:\n",
    "        return 'Invalid Month'\n",
    "    if month == 2 and is_leap(year):\n",
    "        return 29\n",
    "    \n",
    "    return month_days[month]\n",
    "\n",
    "print(is_leap(2024))\n",
    "print(days_in_month(2024,2))"
   ]
  }
 ],
 "metadata": {
  "kernelspec": {
   "display_name": "Python 3 (ipykernel)",
   "language": "python",
   "name": "python3"
  },
  "language_info": {
   "codemirror_mode": {
    "name": "ipython",
    "version": 3
   },
   "file_extension": ".py",
   "mimetype": "text/x-python",
   "name": "python",
   "nbconvert_exporter": "python",
   "pygments_lexer": "ipython3",
   "version": "3.10.5"
  }
 },
 "nbformat": 4,
 "nbformat_minor": 5
}
