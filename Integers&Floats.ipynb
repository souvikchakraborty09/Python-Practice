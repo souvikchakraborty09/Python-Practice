{
 "cells": [
  {
   "cell_type": "code",
   "execution_count": 14,
   "id": "a87036be",
   "metadata": {},
   "outputs": [
    {
     "name": "stdout",
     "output_type": "stream",
     "text": [
      "<class 'int'>\n"
     ]
    }
   ],
   "source": [
    "num =3\n",
    "print(type(num)) ##Prints Datatype\n"
   ]
  },
  {
   "cell_type": "code",
   "execution_count": null,
   "id": "d8a6a88a",
   "metadata": {},
   "outputs": [],
   "source": [
    "# Arithmetic Operators:\n",
    "# Addition: 3+2\n",
    "# Substraction: 3-2\n",
    "# Multiplications: 3*2\n",
    "# Division: 3/2\n",
    "# Floor Division: 3//2\n",
    "# Modulus: 3%2\n",
    "# Exponent: 3**2"
   ]
  },
  {
   "cell_type": "code",
   "execution_count": 10,
   "id": "2abda667",
   "metadata": {},
   "outputs": [
    {
     "name": "stdout",
     "output_type": "stream",
     "text": [
      "5\n",
      "1\n",
      "6\n",
      "1.5\n",
      "1\n",
      "1\n",
      "1024\n"
     ]
    }
   ],
   "source": [
    "print(3+2)\n",
    "print(3-2)\n",
    "print(3*2)\n",
    "print(3/2)\n",
    "print(3//2)\n",
    "print(3%2)\n",
    "print(2**10)"
   ]
  },
  {
   "cell_type": "code",
   "execution_count": 11,
   "id": "4f33e5f6",
   "metadata": {},
   "outputs": [
    {
     "name": "stdout",
     "output_type": "stream",
     "text": [
      "9\n"
     ]
    }
   ],
   "source": [
    "print(3*(2+1))"
   ]
  },
  {
   "cell_type": "code",
   "execution_count": 15,
   "id": "2e8023d3",
   "metadata": {},
   "outputs": [
    {
     "name": "stdout",
     "output_type": "stream",
     "text": [
      "4\n"
     ]
    }
   ],
   "source": [
    "#num=num+1\n",
    "num+=1\n",
    "print(num)"
   ]
  },
  {
   "cell_type": "code",
   "execution_count": 17,
   "id": "0608c035",
   "metadata": {},
   "outputs": [
    {
     "name": "stdout",
     "output_type": "stream",
     "text": [
      "3\n",
      "3.8\n"
     ]
    }
   ],
   "source": [
    "print(abs(-3)) ##removes the negative\n",
    "print(round(3.75,1)) ## Round a first digit after decimal. "
   ]
  },
  {
   "cell_type": "code",
   "execution_count": null,
   "id": "dccef7e5",
   "metadata": {},
   "outputs": [],
   "source": [
    "#Comparisons: Gives Boolean output\n",
    "#Equal:  3==2\n",
    "#Not Equal:  3!=2\n",
    "#Greater than:  3>2\n",
    "#less than:  3<2\n",
    "#Greater than or equal:  3>=2\n",
    "#less than or equal:  3<=2"
   ]
  },
  {
   "cell_type": "code",
   "execution_count": 22,
   "id": "6b734b0f",
   "metadata": {},
   "outputs": [
    {
     "name": "stdout",
     "output_type": "stream",
     "text": [
      "False\n",
      "True\n",
      "True\n",
      "False\n"
     ]
    }
   ],
   "source": [
    "num_1 = 3\n",
    "num_2 = 2\n",
    "print(num_1==num_2)\n",
    "print(num_1!=num_2)\n",
    "print(num_1>=num_2)\n",
    "print(num_1<=num_2)"
   ]
  },
  {
   "cell_type": "code",
   "execution_count": 24,
   "id": "2e4d21e2",
   "metadata": {},
   "outputs": [
    {
     "name": "stdout",
     "output_type": "stream",
     "text": [
      "300\n"
     ]
    }
   ],
   "source": [
    "num1='100'\n",
    "num2='200'\n",
    "\n",
    "#Casting to convert string to int\n",
    "num1=int(num1)\n",
    "num2=int(num2)\n",
    "\n",
    "print(num1+num2)"
   ]
  },
  {
   "cell_type": "code",
   "execution_count": null,
   "id": "7c3e958a",
   "metadata": {},
   "outputs": [],
   "source": []
  },
  {
   "cell_type": "code",
   "execution_count": null,
   "id": "56fd2b92",
   "metadata": {},
   "outputs": [],
   "source": []
  },
  {
   "cell_type": "code",
   "execution_count": null,
   "id": "4bfde695",
   "metadata": {},
   "outputs": [],
   "source": []
  },
  {
   "cell_type": "code",
   "execution_count": null,
   "id": "419fa4b1",
   "metadata": {},
   "outputs": [],
   "source": []
  },
  {
   "cell_type": "code",
   "execution_count": null,
   "id": "7e998a71",
   "metadata": {},
   "outputs": [],
   "source": []
  },
  {
   "cell_type": "code",
   "execution_count": null,
   "id": "dcdb3eae",
   "metadata": {},
   "outputs": [],
   "source": []
  },
  {
   "cell_type": "code",
   "execution_count": null,
   "id": "397acf2b",
   "metadata": {},
   "outputs": [],
   "source": []
  },
  {
   "cell_type": "code",
   "execution_count": null,
   "id": "7944385c",
   "metadata": {},
   "outputs": [],
   "source": []
  }
 ],
 "metadata": {
  "kernelspec": {
   "display_name": "Python 3 (ipykernel)",
   "language": "python",
   "name": "python3"
  },
  "language_info": {
   "codemirror_mode": {
    "name": "ipython",
    "version": 3
   },
   "file_extension": ".py",
   "mimetype": "text/x-python",
   "name": "python",
   "nbconvert_exporter": "python",
   "pygments_lexer": "ipython3",
   "version": "3.10.5"
  }
 },
 "nbformat": 4,
 "nbformat_minor": 5
}
