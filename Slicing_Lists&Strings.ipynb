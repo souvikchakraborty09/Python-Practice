{
 "cells": [
  {
   "cell_type": "code",
   "execution_count": null,
   "id": "ea83bd19",
   "metadata": {},
   "outputs": [],
   "source": [
    "#Slicing - way to extract certain elements from list."
   ]
  },
  {
   "cell_type": "code",
   "execution_count": 2,
   "id": "4d688f8f",
   "metadata": {},
   "outputs": [
    {
     "name": "stdout",
     "output_type": "stream",
     "text": [
      "0\n",
      "0\n"
     ]
    }
   ],
   "source": [
    "my_list=[0,1,2,3,4,5,6,7,8,9]\n",
    "#        0,1,2,3,4,5,6,7,8,9 (Positive Indexes)\n",
    "#        -10,-9,-8,-7,-6,-5,-4,-3,-2,-1 (Negative Indexes)\n",
    "print(my_list[0])\n",
    "print(my_list[-10])"
   ]
  },
  {
   "cell_type": "code",
   "execution_count": 8,
   "id": "ba6ad70c",
   "metadata": {},
   "outputs": [
    {
     "name": "stdout",
     "output_type": "stream",
     "text": [
      "[0, 1, 2, 3, 4, 5]\n",
      "[3, 4, 5, 6, 7]\n",
      "[3, 4, 5, 6, 7]\n",
      "[0, 1, 2, 3, 4, 5, 6, 7, 8, 9]\n",
      "[0, 1, 2, 3, 4, 5, 6]\n",
      "[0, 1, 2, 3, 4, 5, 6, 7, 8, 9]\n"
     ]
    }
   ],
   "source": [
    "#list[start:end(n-1):step]\n",
    "#I want values from 0 to 5\n",
    "print(my_list[0:6]) \n",
    "print(my_list[3:8])\n",
    "print(my_list[-7:8])\n",
    "print(my_list[0:])\n",
    "print(my_list[:7])\n",
    "print(my_list[:])"
   ]
  },
  {
   "cell_type": "code",
   "execution_count": 12,
   "id": "b544ee39",
   "metadata": {},
   "outputs": [
    {
     "name": "stdout",
     "output_type": "stream",
     "text": [
      "[2, 4, 6, 8]\n",
      "[]\n",
      "[9, 8, 7, 6, 5, 4, 3]\n",
      "[9, 8, 7, 6, 5, 4, 3, 2, 1, 0]\n"
     ]
    }
   ],
   "source": [
    "#step - It allows us to skip certain values\n",
    "print(my_list[2:-1:2]) #It will jump the no. of step we initialize.\n",
    "#Default is used to print every value\n",
    "print(my_list[2:-1:-1])\n",
    "print(my_list[-1:2:-1])\n",
    "print(my_list[::-1])"
   ]
  },
  {
   "cell_type": "code",
   "execution_count": 16,
   "id": "277fae50",
   "metadata": {},
   "outputs": [
    {
     "name": "stdout",
     "output_type": "stream",
     "text": [
      "https://souvikms.com\n"
     ]
    }
   ],
   "source": [
    "#Slicing String\n",
    "sample_url='https://souvikms.com'\n",
    "print(sample_url)"
   ]
  },
  {
   "cell_type": "code",
   "execution_count": 18,
   "id": "fea0efce",
   "metadata": {},
   "outputs": [
    {
     "name": "stdout",
     "output_type": "stream",
     "text": [
      "moc.smkivuos//:sptth\n"
     ]
    }
   ],
   "source": [
    "#Reverse URL\n",
    "print(sample_url[::-1])"
   ]
  },
  {
   "cell_type": "code",
   "execution_count": 23,
   "id": "56faf99d",
   "metadata": {},
   "outputs": [
    {
     "name": "stdout",
     "output_type": "stream",
     "text": [
      ".com\n"
     ]
    }
   ],
   "source": [
    "#Get the top-level Domain\n",
    "print(sample_url[-4:])"
   ]
  },
  {
   "cell_type": "code",
   "execution_count": 25,
   "id": "c7ee67a8",
   "metadata": {},
   "outputs": [
    {
     "name": "stdout",
     "output_type": "stream",
     "text": [
      "souvikms.com\n"
     ]
    }
   ],
   "source": [
    "#Print the URL without http://\n",
    "print(sample_url[8:])"
   ]
  },
  {
   "cell_type": "code",
   "execution_count": 28,
   "id": "15307471",
   "metadata": {},
   "outputs": [
    {
     "name": "stdout",
     "output_type": "stream",
     "text": [
      "souvikms\n",
      "souvikms\n"
     ]
    }
   ],
   "source": [
    "#Print the URL without http:// or top-level domain\n",
    "print(sample_url[8:16])\n",
    "print(sample_url[8:-4])"
   ]
  }
 ],
 "metadata": {
  "kernelspec": {
   "display_name": "Python 3 (ipykernel)",
   "language": "python",
   "name": "python3"
  },
  "language_info": {
   "codemirror_mode": {
    "name": "ipython",
    "version": 3
   },
   "file_extension": ".py",
   "mimetype": "text/x-python",
   "name": "python",
   "nbconvert_exporter": "python",
   "pygments_lexer": "ipython3",
   "version": "3.10.5"
  }
 },
 "nbformat": 4,
 "nbformat_minor": 5
}
