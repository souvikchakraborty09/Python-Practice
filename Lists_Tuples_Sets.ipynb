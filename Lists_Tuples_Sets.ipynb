{
 "cells": [
  {
   "cell_type": "code",
   "execution_count": null,
   "id": "9a3a40fa",
   "metadata": {},
   "outputs": [],
   "source": [
    "##List & Tuples allows us to work with sequential Data\n",
    "## Whereas, Sets are unordered collection and Values with no Duplicates"
   ]
  },
  {
   "cell_type": "code",
   "execution_count": 41,
   "id": "e27a90ee",
   "metadata": {},
   "outputs": [
    {
     "name": "stdout",
     "output_type": "stream",
     "text": [
      "['Eng', 'His', 'Maths', 'CompSci']\n",
      "4\n"
     ]
    }
   ],
   "source": [
    "courses = ['Eng','His','Maths','CompSci']\n",
    "print(courses)\n",
    "print(len(courses))"
   ]
  },
  {
   "cell_type": "code",
   "execution_count": 8,
   "id": "dd9dc7a1",
   "metadata": {},
   "outputs": [
    {
     "name": "stdout",
     "output_type": "stream",
     "text": [
      "Maths\n",
      "CompSci\n",
      "['Eng', 'His', 'Maths']\n"
     ]
    }
   ],
   "source": [
    "print(courses[2])\n",
    "print(courses[-1]) ##Last item\n",
    "print(courses[0:3])##0 to n-1\n",
    "#print(courses[6]) ##IndexError: list index out of range"
   ]
  },
  {
   "cell_type": "code",
   "execution_count": 4,
   "id": "7234bb1d",
   "metadata": {},
   "outputs": [
    {
     "name": "stdout",
     "output_type": "stream",
     "text": [
      "S\n"
     ]
    }
   ],
   "source": [
    "a = 'Souvik'\n",
    "b = list(a)\n",
    "print(b[0])"
   ]
  },
  {
   "cell_type": "code",
   "execution_count": 37,
   "id": "cdbbe14d",
   "metadata": {},
   "outputs": [
    {
     "name": "stdout",
     "output_type": "stream",
     "text": [
      "['Physical Edu', 'Eng', 'His', 'Maths', 'CompSci', 'Art']\n"
     ]
    }
   ],
   "source": [
    "courses.append('Art') ##It adds the value at the last\n",
    "courses.insert(0,'Physical Edu') ## It adds to the provided location (loc,value)\n",
    "courses_2 = ['Sci','Chem']\n",
    "##courses.insert(0,courses_2)\n",
    "print(courses)"
   ]
  },
  {
   "cell_type": "code",
   "execution_count": 38,
   "id": "5fbcf4e3",
   "metadata": {},
   "outputs": [
    {
     "name": "stdout",
     "output_type": "stream",
     "text": [
      "Chem\n",
      "['Physical Edu', 'Eng', 'His', 'Maths', 'CompSci', 'Sci']\n"
     ]
    }
   ],
   "source": [
    "courses.extend(courses_2) ## courses_2 is added as its string value.\n",
    "courses.remove('Art')\n",
    "popped=courses.pop() ##It removes the last Value by default.\n",
    "print(popped)\n",
    "print(courses)"
   ]
  },
  {
   "cell_type": "code",
   "execution_count": 43,
   "id": "cd8a7832",
   "metadata": {},
   "outputs": [
    {
     "name": "stdout",
     "output_type": "stream",
     "text": [
      "['CompSci', 'Maths', 'His', 'Eng']\n"
     ]
    }
   ],
   "source": [
    "courses = ['Eng','His','Maths','CompSci']\n",
    "courses.reverse() ##It reverses the elements\n",
    "print(courses)"
   ]
  },
  {
   "cell_type": "code",
   "execution_count": 47,
   "id": "b43cd457",
   "metadata": {},
   "outputs": [
    {
     "name": "stdout",
     "output_type": "stream",
     "text": [
      "['CompSci', 'Eng', 'His', 'Maths']\n",
      "[1, 2, 3, 6, 7, 8, 9]\n",
      "[9, 8, 7, 6, 3, 2, 1]\n"
     ]
    }
   ],
   "source": [
    "courses.sort() ##Sorts lexicographically\n",
    "print(courses) \n",
    "nums = [1,6,3,7,8,2,9]\n",
    "nums.sort() ##Sorts in asc order\n",
    "print(nums)\n",
    "nums.sort(reverse=True) ##Sorts in desc order\n",
    "print(nums)"
   ]
  },
  {
   "cell_type": "code",
   "execution_count": 49,
   "id": "3523603f",
   "metadata": {},
   "outputs": [
    {
     "name": "stdout",
     "output_type": "stream",
     "text": [
      "['CompSci', 'Eng', 'His', 'Maths']\n"
     ]
    }
   ],
   "source": [
    "sorted_courses=sorted(courses)\n",
    "print(sorted_courses)"
   ]
  },
  {
   "cell_type": "code",
   "execution_count": 51,
   "id": "24109a7b",
   "metadata": {},
   "outputs": [
    {
     "data": {
      "text/plain": [
       "9"
      ]
     },
     "execution_count": 51,
     "metadata": {},
     "output_type": "execute_result"
    }
   ],
   "source": [
    "min(nums)\n",
    "max(nums)"
   ]
  },
  {
   "cell_type": "code",
   "execution_count": 54,
   "id": "d6b217ee",
   "metadata": {},
   "outputs": [
    {
     "name": "stdout",
     "output_type": "stream",
     "text": [
      "0\n",
      "False\n",
      "True\n"
     ]
    }
   ],
   "source": [
    "print(courses.index('CompSci')) ##Index of string\n",
    "print('Art' in courses)\n",
    "print('Maths' in courses)"
   ]
  },
  {
   "cell_type": "code",
   "execution_count": 55,
   "id": "3f518563",
   "metadata": {},
   "outputs": [
    {
     "name": "stdout",
     "output_type": "stream",
     "text": [
      "CompSci\n",
      "Eng\n",
      "His\n",
      "Maths\n"
     ]
    }
   ],
   "source": [
    "##Looping Through\n",
    "for item in courses:\n",
    "    print(item)"
   ]
  },
  {
   "cell_type": "code",
   "execution_count": 56,
   "id": "691e3675",
   "metadata": {},
   "outputs": [
    {
     "name": "stdout",
     "output_type": "stream",
     "text": [
      "(0, 'CompSci')\n",
      "(1, 'Eng')\n",
      "(2, 'His')\n",
      "(3, 'Maths')\n"
     ]
    }
   ],
   "source": [
    "##Gives Access to index and value\n",
    "for item in enumerate(courses):\n",
    "    print(item)"
   ]
  },
  {
   "cell_type": "code",
   "execution_count": 57,
   "id": "9d3d4b5d",
   "metadata": {},
   "outputs": [
    {
     "name": "stdout",
     "output_type": "stream",
     "text": [
      "(1, 'CompSci')\n",
      "(2, 'Eng')\n",
      "(3, 'His')\n",
      "(4, 'Maths')\n"
     ]
    }
   ],
   "source": [
    "for item in enumerate(courses,1):\n",
    "    print(item)"
   ]
  },
  {
   "cell_type": "code",
   "execution_count": 66,
   "id": "12d976c8",
   "metadata": {},
   "outputs": [
    {
     "name": "stdout",
     "output_type": "stream",
     "text": [
      "CompSci, Eng, His, Maths\n",
      "['CompSci', 'Eng', 'His', 'Maths']\n"
     ]
    }
   ],
   "source": [
    "course_str = ', '.join(courses) ##Prints element of list in str separated by (, , - ,etc)\n",
    "print(course_str)\n",
    "new_list = course_str.split(', ') ##Convert it into list. i.e the string was eariler separated by ', '\n",
    "print(new_list)"
   ]
  },
  {
   "cell_type": "code",
   "execution_count": null,
   "id": "93b7ded6",
   "metadata": {},
   "outputs": [],
   "source": [
    "##Tuples [It can't be modified i.e - immutable]"
   ]
  },
  {
   "cell_type": "code",
   "execution_count": null,
   "id": "ff73a3f2",
   "metadata": {},
   "outputs": [],
   "source": [
    "#Mutable\n",
    "list_1 = ['History','Math','Physics','CompSci']\n",
    "list_2 = list_1\n",
    "\n",
    "print(list_1)"
   ]
  },
  {
   "cell_type": "code",
   "execution_count": null,
   "id": "5fbea1fc",
   "metadata": {},
   "outputs": [],
   "source": []
  },
  {
   "cell_type": "code",
   "execution_count": null,
   "id": "328c1c39",
   "metadata": {},
   "outputs": [],
   "source": []
  }
 ],
 "metadata": {
  "kernelspec": {
   "display_name": "Python 3 (ipykernel)",
   "language": "python",
   "name": "python3"
  },
  "language_info": {
   "codemirror_mode": {
    "name": "ipython",
    "version": 3
   },
   "file_extension": ".py",
   "mimetype": "text/x-python",
   "name": "python",
   "nbconvert_exporter": "python",
   "pygments_lexer": "ipython3",
   "version": "3.10.5"
  }
 },
 "nbformat": 4,
 "nbformat_minor": 5
}
